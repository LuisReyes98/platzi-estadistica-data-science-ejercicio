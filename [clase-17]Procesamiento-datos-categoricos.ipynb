{
 "cells": [
  {
   "cell_type": "markdown",
   "source": "# Procesamiento para variables categóricas con Python\n\n\n### Diferencias entre los encoding \n\n| Categoria | Dummy | One-hot |\n| --------- | ------| --------|\n|Ingles     | [0,0] | [1,0,0] |\n|Español    | [0,1] | [0,1,0] |\n|Frances    | [1,0] | [0,0,1] |\n| \"Nan\"     |  ?    | [0,0,0] |\n\n<br>\nEn Python todos los frameworks no utilizan la transformacion Dummy solo existe el One-hot a pesar que algunas lo llaman dummies , ya que como pudimos ver es capaz de representar correctamente incluso datos que no se encontraban en el dataset original\n\n",
   "metadata": {
    "cell_id": "00000-3804b034-8098-4436-9f19-bf0c1912aea2",
    "tags": [],
    "deepnote_cell_type": "markdown"
   }
  },
  {
   "cell_type": "code",
   "metadata": {
    "cell_id": "00000-4d5699f2-4c6d-425c-9ea2-639ccc422819",
    "deepnote_to_be_reexecuted": false,
    "execution_millis": 315,
    "execution_start": 1641394481020,
    "source_hash": "97181945",
    "tags": [],
    "deepnote_cell_type": "code"
   },
   "source": "import pandas as pd \n\ndf = pd.read_csv('cars.csv')",
   "execution_count": null,
   "outputs": []
  },
  {
   "cell_type": "markdown",
   "source": "Pandas dummies: https://pandas.pydata.org/docs/reference/api/pandas.get_dummies.html",
   "metadata": {
    "cell_id": "00001-96af3ef4-965c-415e-87f6-c479bcbab7d0",
    "tags": [],
    "deepnote_cell_type": "markdown"
   }
  },
  {
   "cell_type": "code",
   "metadata": {
    "cell_id": "00003-42e8200d-cd10-49d8-9273-d3401cb4e206",
    "deepnote_output_heights": [
     21.1875
    ],
    "deepnote_to_be_reexecuted": false,
    "execution_millis": 6,
    "execution_start": 1641394597016,
    "source_hash": "1e6adb32",
    "tags": [],
    "deepnote_cell_type": "code"
   },
   "source": "set(df['engine_type'])",
   "execution_count": null,
   "outputs": [
    {
     "data": {
      "text/plain": "{'diesel', 'electric', 'gasoline'}"
     },
     "execution_count": 5,
     "metadata": {},
     "output_type": "execute_result"
    }
   ]
  },
  {
   "cell_type": "code",
   "metadata": {
    "cell_id": "00001-87f4c1e7-2fec-4826-afe2-4f05ba58bb70",
    "deepnote_to_be_reexecuted": false,
    "execution_millis": 184,
    "execution_start": 1641394502484,
    "output_cleared": false,
    "source_hash": "48707498",
    "tags": [],
    "deepnote_cell_type": "code"
   },
   "source": "pd.get_dummies(df['engine_type'])",
   "execution_count": null,
   "outputs": [
    {
     "data": {
      "application/vnd.deepnote.dataframe.v3+json": {
       "column_count": 3,
       "columns": [
        {
         "dtype": "uint8",
         "name": "diesel",
         "stats": {
          "histogram": [
           {
            "bin_end": 0.1,
            "bin_start": 0,
            "count": 25657
           },
           {
            "bin_end": 0.2,
            "bin_start": 0.1,
            "count": 0
           },
           {
            "bin_end": 0.30000000000000004,
            "bin_start": 0.2,
            "count": 0
           },
           {
            "bin_end": 0.4,
            "bin_start": 0.30000000000000004,
            "count": 0
           },
           {
            "bin_end": 0.5,
            "bin_start": 0.4,
            "count": 0
           },
           {
            "bin_end": 0.6000000000000001,
            "bin_start": 0.5,
            "count": 0
           },
           {
            "bin_end": 0.7000000000000001,
            "bin_start": 0.6000000000000001,
            "count": 0
           },
           {
            "bin_end": 0.8,
            "bin_start": 0.7000000000000001,
            "count": 0
           },
           {
            "bin_end": 0.9,
            "bin_start": 0.8,
            "count": 0
           },
           {
            "bin_end": 1,
            "bin_start": 0.9,
            "count": 12874
           }
          ],
          "max": "1",
          "min": "0",
          "nan_count": 0,
          "unique_count": 2
         }
        },
        {
         "dtype": "uint8",
         "name": "electric",
         "stats": {
          "histogram": [
           {
            "bin_end": 0.1,
            "bin_start": 0,
            "count": 38521
           },
           {
            "bin_end": 0.2,
            "bin_start": 0.1,
            "count": 0
           },
           {
            "bin_end": 0.30000000000000004,
            "bin_start": 0.2,
            "count": 0
           },
           {
            "bin_end": 0.4,
            "bin_start": 0.30000000000000004,
            "count": 0
           },
           {
            "bin_end": 0.5,
            "bin_start": 0.4,
            "count": 0
           },
           {
            "bin_end": 0.6000000000000001,
            "bin_start": 0.5,
            "count": 0
           },
           {
            "bin_end": 0.7000000000000001,
            "bin_start": 0.6000000000000001,
            "count": 0
           },
           {
            "bin_end": 0.8,
            "bin_start": 0.7000000000000001,
            "count": 0
           },
           {
            "bin_end": 0.9,
            "bin_start": 0.8,
            "count": 0
           },
           {
            "bin_end": 1,
            "bin_start": 0.9,
            "count": 10
           }
          ],
          "max": "1",
          "min": "0",
          "nan_count": 0,
          "unique_count": 2
         }
        },
        {
         "dtype": "uint8",
         "name": "gasoline"
        },
        {
         "dtype": "int64",
         "name": "_deepnote_index_column"
        }
       ],
       "row_count": 38531,
       "rows": [
        {
         "_deepnote_index_column": 0,
         "diesel": 0,
         "electric": 0,
         "gasoline": 1
        },
        {
         "_deepnote_index_column": 1,
         "diesel": 0,
         "electric": 0,
         "gasoline": 1
        },
        {
         "_deepnote_index_column": 2,
         "diesel": 0,
         "electric": 0,
         "gasoline": 1
        },
        {
         "_deepnote_index_column": 3,
         "diesel": 0,
         "electric": 0,
         "gasoline": 1
        },
        {
         "_deepnote_index_column": 4,
         "diesel": 0,
         "electric": 0,
         "gasoline": 1
        },
        {
         "_deepnote_index_column": 5,
         "diesel": 0,
         "electric": 0,
         "gasoline": 1
        },
        {
         "_deepnote_index_column": 6,
         "diesel": 0,
         "electric": 0,
         "gasoline": 1
        },
        {
         "_deepnote_index_column": 7,
         "diesel": 0,
         "electric": 0,
         "gasoline": 1
        },
        {
         "_deepnote_index_column": 8,
         "diesel": 0,
         "electric": 0,
         "gasoline": 1
        },
        {
         "_deepnote_index_column": 9,
         "diesel": 0,
         "electric": 0,
         "gasoline": 1
        }
       ]
      },
      "text/html": "<div>\n<style scoped>\n    .dataframe tbody tr th:only-of-type {\n        vertical-align: middle;\n    }\n\n    .dataframe tbody tr th {\n        vertical-align: top;\n    }\n\n    .dataframe thead th {\n        text-align: right;\n    }\n</style>\n<table border=\"1\" class=\"dataframe\">\n  <thead>\n    <tr style=\"text-align: right;\">\n      <th></th>\n      <th>diesel</th>\n      <th>electric</th>\n      <th>gasoline</th>\n    </tr>\n  </thead>\n  <tbody>\n    <tr>\n      <th>0</th>\n      <td>0</td>\n      <td>0</td>\n      <td>1</td>\n    </tr>\n    <tr>\n      <th>1</th>\n      <td>0</td>\n      <td>0</td>\n      <td>1</td>\n    </tr>\n    <tr>\n      <th>2</th>\n      <td>0</td>\n      <td>0</td>\n      <td>1</td>\n    </tr>\n    <tr>\n      <th>3</th>\n      <td>0</td>\n      <td>0</td>\n      <td>1</td>\n    </tr>\n    <tr>\n      <th>4</th>\n      <td>0</td>\n      <td>0</td>\n      <td>1</td>\n    </tr>\n    <tr>\n      <th>...</th>\n      <td>...</td>\n      <td>...</td>\n      <td>...</td>\n    </tr>\n    <tr>\n      <th>38526</th>\n      <td>0</td>\n      <td>0</td>\n      <td>1</td>\n    </tr>\n    <tr>\n      <th>38527</th>\n      <td>1</td>\n      <td>0</td>\n      <td>0</td>\n    </tr>\n    <tr>\n      <th>38528</th>\n      <td>0</td>\n      <td>0</td>\n      <td>1</td>\n    </tr>\n    <tr>\n      <th>38529</th>\n      <td>0</td>\n      <td>0</td>\n      <td>1</td>\n    </tr>\n    <tr>\n      <th>38530</th>\n      <td>0</td>\n      <td>0</td>\n      <td>1</td>\n    </tr>\n  </tbody>\n</table>\n<p>38531 rows × 3 columns</p>\n</div>",
      "text/plain": "       diesel  electric  gasoline\n0           0         0         1\n1           0         0         1\n2           0         0         1\n3           0         0         1\n4           0         0         1\n...       ...       ...       ...\n38526       0         0         1\n38527       1         0         0\n38528       0         0         1\n38529       0         0         1\n38530       0         0         1\n\n[38531 rows x 3 columns]"
     },
     "execution_count": 2,
     "metadata": {},
     "output_type": "execute_result"
    }
   ]
  },
  {
   "cell_type": "markdown",
   "source": "One-hot con Scikit: https://scikit-learn.org/stable/modules/preprocessing.html#encoding-categorical-features ",
   "metadata": {
    "cell_id": "00004-cb10db59-6af8-4367-b912-1766e45d62e7",
    "tags": [],
    "deepnote_cell_type": "markdown"
   }
  },
  {
   "cell_type": "code",
   "metadata": {
    "cell_id": "00006-0fdeb052-50f9-4fba-b8eb-fb4443e07349",
    "deepnote_to_be_reexecuted": false,
    "execution_millis": 19,
    "execution_start": 1641395712744,
    "source_hash": "52e010e7",
    "tags": [],
    "deepnote_cell_type": "code"
   },
   "source": "import sklearn.preprocessing as  preprocessing\nencoder =  preprocessing.OneHotEncoder(handle_unknown='ignore')",
   "execution_count": null,
   "outputs": []
  },
  {
   "cell_type": "code",
   "metadata": {
    "cell_id": "00004-76441921-cba0-4cd5-a9d6-f355d99d36cc",
    "deepnote_output_heights": [
     136.3125
    ],
    "deepnote_to_be_reexecuted": false,
    "execution_millis": 13,
    "execution_start": 1641395722898,
    "source_hash": "a06d5022",
    "tags": [],
    "deepnote_cell_type": "code"
   },
   "source": "df[['engine_type']].values",
   "execution_count": null,
   "outputs": [
    {
     "data": {
      "text/plain": "array([['gasoline'],\n       ['gasoline'],\n       ['gasoline'],\n       ...,\n       ['gasoline'],\n       ['gasoline'],\n       ['gasoline']], dtype=object)"
     },
     "execution_count": 7,
     "metadata": {},
     "output_type": "execute_result"
    }
   ]
  },
  {
   "cell_type": "code",
   "metadata": {
    "cell_id": "00006-cad598dd-5029-4979-bc58-cbbfbd51c57b",
    "deepnote_output_heights": [
     21.1875
    ],
    "deepnote_to_be_reexecuted": false,
    "execution_millis": 242,
    "execution_start": 1641395783284,
    "output_cleared": false,
    "source_hash": "2e31a56b",
    "tags": [],
    "deepnote_cell_type": "code"
   },
   "source": "encoder.fit(df[['engine_type']].values)",
   "execution_count": null,
   "outputs": [
    {
     "data": {
      "text/plain": "OneHotEncoder(handle_unknown='ignore')"
     },
     "execution_count": 10,
     "metadata": {},
     "output_type": "execute_result"
    }
   ]
  },
  {
   "cell_type": "code",
   "metadata": {
    "cell_id": "00009-7e3daec6-3a75-4eab-be0e-888c6cc3a189",
    "deepnote_output_heights": [
     59.5625
    ],
    "deepnote_to_be_reexecuted": false,
    "execution_millis": 1,
    "execution_start": 1641395836940,
    "source_hash": "2776cef0",
    "tags": [],
    "deepnote_cell_type": "code"
   },
   "source": "encoder.transform([['gasoline'], ['diesel'], ['aceite']]).toarray()",
   "execution_count": null,
   "outputs": [
    {
     "data": {
      "text/plain": "array([[0., 0., 1.],\n       [1., 0., 0.],\n       [0., 0., 0.]])"
     },
     "execution_count": 11,
     "metadata": {},
     "output_type": "execute_result"
    }
   ]
  },
  {
   "cell_type": "markdown",
   "source": "Variables numéricas discretas pueden ser codificadas como categoricas",
   "metadata": {
    "cell_id": "00008-ed519790-e6f0-4b2a-a882-4bfde7a81695",
    "tags": [],
    "deepnote_cell_type": "markdown"
   }
  },
  {
   "cell_type": "code",
   "metadata": {
    "cell_id": "00011-a8ceaf7c-8f18-4cf9-b502-97678c5ec0be",
    "deepnote_output_heights": [
     21.1875
    ],
    "deepnote_to_be_reexecuted": false,
    "execution_millis": 96,
    "execution_start": 1641396274311,
    "source_hash": "ee182087",
    "tags": [],
    "deepnote_cell_type": "code"
   },
   "source": "encoder.fit(df[['year_produced']].values)",
   "execution_count": null,
   "outputs": [
    {
     "data": {
      "text/plain": "OneHotEncoder(handle_unknown='ignore')"
     },
     "execution_count": 14,
     "metadata": {},
     "output_type": "execute_result"
    }
   ]
  },
  {
   "cell_type": "code",
   "metadata": {
    "cell_id": "00008-67b61c47-f6ed-411f-b1d7-aedb7e863332",
    "deepnote_output_heights": [
     21.1875
    ],
    "deepnote_to_be_reexecuted": false,
    "execution_millis": 17,
    "execution_start": 1620313108807,
    "output_cleared": false,
    "source_hash": "ee182087",
    "tags": [],
    "deepnote_cell_type": "code"
   },
   "source": "# encoder.fit(df[['year_produced']].values)",
   "execution_count": null,
   "outputs": [
    {
     "data": {
      "text/plain": "OneHotEncoder(handle_unknown='ignore')"
     },
     "execution_count": 10,
     "metadata": {},
     "output_type": "execute_result"
    }
   ]
  },
  {
   "cell_type": "code",
   "metadata": {
    "cell_id": "00013-0b3cc76e-e681-41fa-9835-903ee59f826b",
    "deepnote_output_heights": [
     232.25
    ],
    "deepnote_to_be_reexecuted": false,
    "execution_millis": 4,
    "execution_start": 1641396287288,
    "source_hash": "1823d4a2",
    "tags": [],
    "deepnote_cell_type": "code"
   },
   "source": "encoder.transform([[2016], [2009], [199]]).toarray()",
   "execution_count": null,
   "outputs": [
    {
     "data": {
      "text/plain": "array([[0., 0., 0., 0., 0., 0., 0., 0., 0., 0., 0., 0., 0., 0., 0., 0.,\n        0., 0., 0., 0., 0., 0., 0., 0., 0., 0., 0., 0., 0., 0., 0., 0.,\n        0., 0., 0., 0., 0., 0., 0., 0., 0., 0., 0., 0., 0., 0., 0., 0.,\n        0., 0., 0., 0., 0., 0., 0., 0., 0., 0., 0., 0., 1., 0., 0., 0.],\n       [0., 0., 0., 0., 0., 0., 0., 0., 0., 0., 0., 0., 0., 0., 0., 0.,\n        0., 0., 0., 0., 0., 0., 0., 0., 0., 0., 0., 0., 0., 0., 0., 0.,\n        0., 0., 0., 0., 0., 0., 0., 0., 0., 0., 0., 0., 0., 0., 0., 0.,\n        0., 0., 0., 0., 0., 1., 0., 0., 0., 0., 0., 0., 0., 0., 0., 0.],\n       [0., 0., 0., 0., 0., 0., 0., 0., 0., 0., 0., 0., 0., 0., 0., 0.,\n        0., 0., 0., 0., 0., 0., 0., 0., 0., 0., 0., 0., 0., 0., 0., 0.,\n        0., 0., 0., 0., 0., 0., 0., 0., 0., 0., 0., 0., 0., 0., 0., 0.,\n        0., 0., 0., 0., 0., 0., 0., 0., 0., 0., 0., 0., 0., 0., 0., 0.]])"
     },
     "execution_count": 15,
     "metadata": {},
     "output_type": "execute_result"
    }
   ]
  },
  {
   "cell_type": "markdown",
   "source": "# Correlaciones\n\nCorrelacion y covarianza\n\nsi la correlazion entre dos variables es muy alta hay que evaluar si representan la misma informacion para asi reducir el numero de variables.\n\nse busca reducir el numero de columnas para obtener aquellas que representen la fuente principal de datos\n\n## Correlacion\n\nintutivamente se basa en medir las desvicaciones o variaciones de una variable X con respecto a otra variable Y\n\n## Covarianza\n\n$$\n\\text{cov}(x,y) = \\frac{1}{n} * \\sum_{i=1}^n (X_i - \\bar{X}) (Y_i - \\bar{Y})\n$$\n\n\n## Coeficiente de correlacion\n\nUna forma de normalizar la covarianza es dividirla por la desviacion estandar de la variable X y la desviacion estandar de la variable Y\n\nSi el coeficiente es alta quiere decir que hay una alta correlacion y si el coeficiente es bajo quiere decir que hay una baja correlacion\n\nmientras mas cercano a 1 mayor es la correlacion y mientras mas cercano a 0 menor es la correlacion\n\n$$\nr =\\frac{\\sum\\left(x_{i}-\\bar{x}\\right)\\left(y_{i}-\\bar{y}\\right)}{\\sqrt{\\sum\\left(x_{i}-\\bar{x}\\right)^{2} \\sum\\left(y_{i}-\\bar{y}\\right)^{2}}}\n$$\n\n$$\nr = \\frac{\\text{cov}(x,y)}{\\sigma(x)\\sigma(y)}\n$$\n\n\n[lectura para profundizar en el coeficiente de correlacion](https://cims.nyu.edu/~cfgranda/pages/stuff/probability_stats_for_DS.pdf)\n",
   "metadata": {
    "cell_id": "00014-1bb1a836-e4ca-42ae-acd2-e3d75d1ee2c6",
    "tags": [],
    "deepnote_cell_type": "markdown"
   }
  },
  {
   "cell_type": "markdown",
   "source": "### Correlaciones\n\n- ¿Qué es la correlación?\nLa correlación es una medida estadística que expresa hasta qué punto dos variables están relacionadas linealmente (esto es, cambian conjuntamente a una tasa constante).\n\n- ¿Qué es la covarianza?\nEs un valor que indica el grado de variación conjunta de dos variables aleatorias respecto a sus medias.\n\n- ¿Qué es el coeficiente de correlación?\nEl coeficiente de correlación es la medida específica que cuantifica la intensidad de la relación lineal entre dos variables en un análisis de correlación.\n\n![correlacion](./images/correlacion.png)\n\n\n    Siempre debemos considerar que: Correlación no implica causalidad.",
   "metadata": {
    "cell_id": "00015-330a5401-364f-4d14-b553-e1313a0eafef",
    "tags": [],
    "deepnote_cell_type": "markdown"
   }
  },
  {
   "cell_type": "code",
   "metadata": {
    "cell_id": "00015-2f20648d-24e0-466c-b4d6-a6f4c754685d",
    "tags": [],
    "deepnote_cell_type": "code"
   },
   "source": "",
   "execution_count": null,
   "outputs": []
  },
  {
   "cell_type": "markdown",
   "source": "<a style='text-decoration:none;line-height:16px;display:flex;color:#5B5B62;padding:10px;justify-content:end;' href='https://deepnote.com?utm_source=created-in-deepnote-cell&projectId=bc504059-8ad6-4235-92fa-88fa0fec1687' target=\"_blank\">\n<img alt='Created in deepnote.com' style='display:inline;max-height:16px;margin:0px;margin-right:7.5px;' src='data:image/svg+xml;base64,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' > </img>\nCreated in <span style='font-weight:600;margin-left:4px;'>Deepnote</span></a>",
   "metadata": {
    "tags": [],
    "created_in_deepnote_cell": true,
    "deepnote_cell_type": "markdown"
   }
  }
 ],
 "nbformat": 4,
 "nbformat_minor": 2,
 "metadata": {
  "deepnote": {
   "is_reactive": false
  },
  "deepnote_execution_queue": [],
  "deepnote_notebook_id": "6d476368-14b6-474f-8ae9-ba16eefffcf2",
  "interpreter": {
   "hash": "ee8799877915b2128d18d4b1666f364b6042f264ec4835ead054518ba3b9d1ac"
  },
  "kernelspec": {
   "display_name": "Python 3.9.7 64-bit ('datascience_ml': conda)",
   "language": "python",
   "name": "python3"
  },
  "language_info": {
   "name": "python",
   "version": "3.9.7"
  },
  "orig_nbformat": 2
 }
}