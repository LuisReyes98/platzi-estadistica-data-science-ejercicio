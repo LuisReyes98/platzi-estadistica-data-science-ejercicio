{
 "cells": [
  {
   "cell_type": "markdown",
   "metadata": {
    "cell_id": "00000-3ae783b8-e68c-4e50-8584-76d9afd6d731",
    "deepnote_cell_type": "markdown",
    "tags": []
   },
   "source": [
    "# Escalamiento de datos numéricos"
   ]
  },
  {
   "cell_type": "markdown",
   "metadata": {
    "cell_id": "00001-1fa33800-9e78-4de9-9f32-8a55be925f26",
    "deepnote_cell_type": "markdown",
    "tags": []
   },
   "source": [
    "### Transformaciones lineales"
   ]
  },
  {
   "cell_type": "code",
   "execution_count": null,
   "metadata": {
    "cell_id": "00000-dd8388cc-7c25-45a6-8492-0cb9cad04e24",
    "deepnote_cell_type": "code",
    "deepnote_to_be_reexecuted": false,
    "execution_millis": 3931,
    "execution_start": 1641222102986,
    "source_hash": "f9ac71d",
    "tags": []
   },
   "outputs": [],
   "source": [
    "import timeit\n",
    "import numpy as np\n",
    "import pandas as pd \n",
    "import matplotlib.pyplot as plt\n",
    "from sklearn import datasets, linear_model\n",
    "\n",
    "X, y = datasets.load_diabetes(return_X_y=True)\n",
    "raw = X[:, None, 2]"
   ]
  },
  {
   "cell_type": "markdown",
   "metadata": {
    "cell_id": "00003-d9113809-302a-4719-90e1-db4c6b2d6eca",
    "deepnote_cell_type": "markdown",
    "tags": []
   },
   "source": [
    "**La transformación:**\n",
    "\n",
    "raw = X[:, None, 2]\n",
    "Esta transformación puede crear un poco de confusión si no conoces algunos detalles sobre NumPy. Para las dudas te detallo un poco que hizo en esta línea de código.\n",
    "\n",
    "Note: X tiene un shape de (442, 10) para nuestro estudio solo necesitamos una columna, buscamos tener un raw con shape (442, 1)\n",
    "\n",
    ": toma todas las columnas y filas.\n",
    "None indica la transformación del arreglo (newaxis)\n",
    "2 Selecciona la 3ra columna de X.\n",
    "Más información sobre Numpy Newaxis"
   ]
  },
  {
   "cell_type": "code",
   "execution_count": null,
   "metadata": {
    "cell_id": "00003-ac381be6-8d15-49e3-b774-520b828d8253",
    "deepnote_cell_type": "code",
    "deepnote_output_heights": [
     611
    ],
    "deepnote_to_be_reexecuted": false,
    "execution_millis": 1,
    "execution_start": 1641222779738,
    "source_hash": "31ab1591",
    "tags": []
   },
   "outputs": [],
   "source": [
    "# print(raw)"
   ]
  },
  {
   "cell_type": "markdown",
   "metadata": {
    "cell_id": "00001-de96f906-18e2-433d-98c3-2a6675f1ddf9",
    "deepnote_cell_type": "markdown",
    "tags": []
   },
   "source": [
    "Detalles del dataset: https://scikit-learn.org/stable/modules/generated/sklearn.datasets.load_diabetes.html"
   ]
  },
  {
   "cell_type": "markdown",
   "metadata": {
    "cell_id": "00006-ddfb573d-3f07-4b17-bb16-840da03cc64e",
    "deepnote_cell_type": "markdown",
    "tags": []
   },
   "source": [
    "\n",
    "$$\n",
    "z= \\frac{x - \\mu(x)}{\\sigma(x)}\n",
    "$$"
   ]
  },
  {
   "cell_type": "code",
   "execution_count": null,
   "metadata": {
    "cell_id": "00004-9c85c2ea-77d3-4797-bb52-5c62648aea5a",
    "deepnote_cell_type": "code",
    "deepnote_output_heights": [
     97.9375,
     253
    ],
    "deepnote_to_be_reexecuted": false,
    "execution_millis": 659,
    "execution_start": 1641223833682,
    "source_hash": "ffcae8cc",
    "tags": []
   },
   "outputs": [
    {
     "data": {
      "text/plain": [
       "(array([32., 66., 98., 90., 64., 50., 23., 12.,  5.,  2.]),\n",
       " array([-1.89792941, -1.34956464, -0.80119987, -0.2528351 ,  0.29552967,\n",
       "         0.84389444,  1.39225921,  1.94062398,  2.48898875,  3.03735352,\n",
       "         3.58571828]),\n",
       " <BarContainer object of 10 artists>)"
      ]
     },
     "execution_count": 16,
     "metadata": {},
     "output_type": "execute_result"
    },
    {
     "data": {
      "image/png": "[encoded data removed]",
      "text/plain": [
       "<Figure size 432x288 with 3 Axes>"
      ]
     },
     "metadata": {
      "image/png": {
       "height": 251,
       "width": 375
      },
      "needs_background": "light"
     },
     "output_type": "display_data"
    }
   ],
   "source": [
    "# reglas de escalamiento\n",
    "\n",
    "# maximo minimo\n",
    "\n",
    "max_raw = max(raw)\n",
    "min_raw = min(raw)\n",
    "\n",
    "scaled = (2* raw - max_raw - min_raw)/(max_raw - min_raw)\n",
    "# print(scaled)\n",
    "\n",
    "# normalizacion Z\n",
    "avg = np.average(raw)\n",
    "std = np.std(raw)\n",
    "z_scaled = (raw - avg)/std\n",
    "\n",
    "# grafica\n",
    "\n",
    "fig, axs = plt.subplots(3, 1, sharex=True)\n",
    "\n",
    "# se le dice que grafico dibujar para cada eje\n",
    "axs[0].hist(raw)\n",
    "axs[1].hist(scaled)\n",
    "axs[2].hist(z_scaled)\n",
    "\n"
   ]
  },
  {
   "cell_type": "code",
   "execution_count": null,
   "metadata": {
    "cell_id": "00006-e855690a-f1ba-42bb-8e8b-c08a99e4f3ec",
    "deepnote_cell_type": "code",
    "deepnote_to_be_reexecuted": false,
    "execution_millis": 3,
    "execution_start": 1641223857848,
    "source_hash": "a31a99ca",
    "tags": []
   },
   "outputs": [],
   "source": [
    "# modelo de entrenamiento\n",
    "def train_raw():\n",
    "    linear_model.LinearRegression().fit(raw,y)\n",
    "\n",
    "def train_scaled():\n",
    "    linear_model.LinearRegression().fit(scaled,y)\n",
    "\n",
    "def train_z_scaled():\n",
    "    linear_model.LinearRegression().fit(z_scaled, y)"
   ]
  },
  {
   "cell_type": "code",
   "execution_count": null,
   "metadata": {
    "cell_id": "00008-5b50eee6-d6d6-4c2f-8d97-c72f22c584a2",
    "deepnote_cell_type": "code",
    "deepnote_to_be_reexecuted": false,
    "execution_millis": 335,
    "execution_start": 1641223874986,
    "source_hash": "3685ddeb",
    "tags": []
   },
   "outputs": [
    {
     "name": "stdout",
     "output_type": "stream",
     "text": [
      "train raw : 0.057336664000104065\n",
      "train scaled : 0.04192510499888158\n",
      "train scaled : 0.04193426599886152\n"
     ]
    }
   ],
   "source": [
    "raw_time = timeit.timeit(train_raw, number=100)\n",
    "scaled_time = timeit.timeit(train_scaled, number=100)\n",
    "z_scaled_time = timeit.timeit(train_z_scaled, number=100)\n",
    "print('train raw : {}'.format(raw_time))\n",
    "print('train scaled : {}'.format(scaled_time))\n",
    "print('train z scaled : {}'.format(z_scaled_time))"
   ]
  },
  {
   "cell_type": "code",
   "execution_count": null,
   "metadata": {
    "cell_id": "00004-95df3b96-b7bf-4957-9030-aee0179e31dd",
    "deepnote_cell_type": "code",
    "deepnote_to_be_reexecuted": false,
    "execution_millis": 1,
    "execution_start": 1622485024560,
    "output_cleared": false,
    "source_hash": "6dc73673",
    "tags": []
   },
   "outputs": [
    {
     "name": "stdout",
     "output_type": "stream",
     "text": [
      "trainning time for raw data : 0.07451489300001413 \n",
      "trainning time for scaled data : 0.06742551799834473\n",
      "trainning time for z_scaled data : 0.06812811800045893\n"
     ]
    }
   ],
   "source": [
    "# raw_time = timeit.timeit(train_raw, number = 100)\n",
    "# scaled_time = timeit.timeit(train_raw, number = 100)\n",
    "# z_scaled_time = timeit.timeit(train_raw, number = 100)\n",
    "# print('trainning time for raw data : {} '.format(raw_time))\n",
    "# print('trainning time for scaled data : {}'.format(scaled_time))\n",
    "# print('trainning time for z_scaled data : {}'.format(z_scaled_time))"
   ]
  },
  {
   "cell_type": "markdown",
   "metadata": {
    "cell_id": "00006-39c52400-be54-4471-a6c6-e0bebbd7a48f",
    "deepnote_cell_type": "markdown",
    "tags": []
   },
   "source": [
    "* max-min scaling: mejor para datos uniformemente distribuidos, forma normal o campana de gauss\n",
    "* z-score scaling: mejor para datos distribuidos \"normalmente\" (forma de campana de gauss)"
   ]
  },
  {
   "cell_type": "markdown",
   "metadata": {
    "cell_id": "00006-3645f92d-c7c3-4f2c-8ff6-19b158f1e589",
    "deepnote_cell_type": "markdown",
    "tags": []
   },
   "source": [
    "Utilidades de Scikit Learn : https://scikit-learn.org/stable/modules/preprocessing.html"
   ]
  },
  {
   "cell_type": "markdown",
   "metadata": {
    "cell_id": "00009-8f892a43-fc2d-4765-9df6-220b21698953",
    "deepnote_cell_type": "markdown",
    "tags": []
   },
   "source": [
    "## Transformaciones no lineales\n",
    "\n",
    "estas transformaciones son mas adecuadas cuando los datos tienen una distribución fuertemente sesgada (no uniforme).\n",
    "\n",
    "Tras la transformacion la distribucion resultantente se aproxima a una distribucion normal.\n",
    "\n",
    "Se usan para luego escalar linealmente los datos. con las formulas conocidas."
   ]
  },
  {
   "cell_type": "code",
   "execution_count": null,
   "metadata": {
    "cell_id": "00010-c3f4aea0-11c5-41b0-9d6d-db691ef3fe1c",
    "deepnote_cell_type": "code",
    "deepnote_to_be_reexecuted": false,
    "execution_millis": 220,
    "execution_start": 1641223881149,
    "source_hash": "f2d578bb",
    "tags": []
   },
   "outputs": [],
   "source": [
    "df = pd.read_csv('cars.csv')"
   ]
  },
  {
   "cell_type": "code",
   "execution_count": null,
   "metadata": {
    "cell_id": "00011-2eb046f6-9ec1-4791-a79a-c7b651c4d276",
    "deepnote_cell_type": "code",
    "deepnote_output_heights": [
     21.1875,
     250
    ],
    "deepnote_to_be_reexecuted": false,
    "execution_millis": 356,
    "execution_start": 1641223924484,
    "output_cleared": false,
    "source_hash": "d4fd817c",
    "tags": []
   },
   "outputs": [
    {
     "data": {
      "text/plain": [
       "<AxesSubplot:>"
      ]
     },
     "execution_count": 20,
     "metadata": {},
     "output_type": "execute_result"
    },
    {
     "data": {
      "image/png": "[encoded data removed]",
      "text/plain": [
       "<Figure size 432x288 with 1 Axes>"
      ]
     },
     "metadata": {
      "image/png": {
       "height": 248,
       "width": 388
      },
      "needs_background": "light"
     },
     "output_type": "display_data"
    }
   ],
   "source": [
    "df['price_usd'].hist()"
   ]
  },
  {
   "cell_type": "markdown",
   "metadata": {
    "cell_id": "00012-e7d44a5d-9df4-41fb-a0d9-d1467e02f7c5",
    "deepnote_cell_type": "markdown",
    "tags": []
   },
   "source": [
    "Transformación con $$tanh(x)$$"
   ]
  },
  {
   "cell_type": "markdown",
   "metadata": {},
   "source": [
    "la tangente hiperbolica se puede calibrar dividiendo la variable de por un numero dentro de la funcion tangente"
   ]
  },
  {
   "cell_type": "code",
   "execution_count": null,
   "metadata": {
    "cell_id": "00012-4d7c01b7-67e1-4528-83b8-53f72c22bd71",
    "deepnote_cell_type": "code",
    "deepnote_output_heights": [
     21.1875,
     250
    ],
    "deepnote_to_be_reexecuted": false,
    "execution_millis": 351,
    "execution_start": 1641224046254,
    "output_cleared": false,
    "source_hash": "7d56e591",
    "tags": []
   },
   "outputs": [
    {
     "data": {
      "text/plain": [
       "<AxesSubplot:>"
      ]
     },
     "execution_count": 22,
     "metadata": {},
     "output_type": "execute_result"
    },
    {
     "data": {
      "image/png": "[encoded data removed]",
      "text/plain": [
       "<Figure size 432x288 with 1 Axes>"
      ]
     },
     "metadata": {
      "image/png": {
       "height": 248,
       "width": 381
      },
      "needs_background": "light"
     },
     "output_type": "display_data"
    }
   ],
   "source": [
    "p = 10000\n",
    "# colapsaron todos los valores en un punto\n",
    "# df['price_usd'].apply(lambda x: np.tanh(x)).hist()\n",
    "\n",
    "# la tangente hiperbolica se puede calibrar dividiendo la variable de entrada por un escalar que se va calibrando\n",
    "df['price_usd'].apply(lambda x: np.tanh(x/p)).hist()\n"
   ]
  },
  {
   "cell_type": "markdown",
   "metadata": {
    "cell_id": "00014-043435bf-21c9-4ffc-9036-2a1dd7b298ee",
    "deepnote_cell_type": "markdown",
    "tags": []
   },
   "source": [
    "* mapear datos a a distintas distribuciones en datos que NO estan uniformemente distribuidos\n",
    "\n",
    "https://scikit-learn.org/stable/auto_examples/preprocessing/plot_map_data_to_normal.html#sphx-glr-auto-examples-preprocessing-plot-map-data-to-normal-py"
   ]
  },
  {
   "cell_type": "markdown",
   "metadata": {
    "cell_id": "00021-a7549672-de44-4166-984f-de0a73794cee",
    "deepnote_cell_type": "markdown",
    "tags": []
   },
   "source": [
    "# Pipelines de procesamiento para variables categóricas"
   ]
  },
  {
   "cell_type": "markdown",
   "metadata": {
    "cell_id": "00022-c255e80d-a904-4ad4-90f0-6761adeff53c",
    "deepnote_cell_type": "markdown",
    "tags": []
   },
   "source": [
    "## Mapeos númericos \n",
    "\n",
    "### Dummy\n",
    "\n",
    "- Representación compacta\n",
    "- Mejor para inputs linealmente independientes\n",
    "\n",
    "### One-hot\n",
    "\n",
    "- Permite describir categorías no incluidas inicialmente\n",
    "\n",
    "### Notas alumnos\n",
    "\n",
    "Cuando se tiene variables categóricas se hace un mapeo numérico. Para eso hay 2 métodos, de manera que sean fácilmente interpretables en modelos de machine learning:\n",
    "\n",
    "**Dummy :** es la representación más compacta que se puede tener de los datos. Es mejor usarla cuando los inputs son variables linealmente independientes (no tienen un grado de correlación significativo). Es decir, las cuando se sabe que las categorías son independientes entre sí.\n",
    "\n",
    "**One-hot :** es más extenso. Permite incluir categorías que no estaban en el dataset inicialmente. De forma que si se filtra una categoría que no estaba incluida, igual se pueda representar numéricamente y no de error en el modelo (este modelo es más cool y es el que se usa).\n",
    "Hay errores en la notación de Pandas y los tratan como que ambos modelos son lo mismo, pero en la realidad el Dummy no se usa. Aún así, en Pandas el método es .get_dummies()."
   ]
  },
  {
   "cell_type": "markdown",
   "metadata": {
    "cell_id": "00022-d8720ec0-10ff-4f18-bb63-4d9939c24828",
    "deepnote_cell_type": "markdown",
    "tags": []
   },
   "source": []
  },
  {
   "cell_type": "markdown",
   "metadata": {
    "cell_id": "00024-394fae69-6be9-418c-a361-2fe813af60c4",
    "deepnote_cell_type": "markdown",
    "tags": []
   },
   "source": [
    "### Dato curioso:\n",
    "\n",
    "La independencia lineal tiene un transfondo matematico.\n",
    "\n",
    "Normalmente se ve mucho en temas de algebra lineal, ya que a partir de la independencia lineal se pueden construir tanto espacios vectoriales como multiples aplicaciones para ecuaciones diferenciales y de matemática en general.\n",
    "\n",
    "Como una idea simple, se puede decir que una variable es linealmente independiente si no puede obtenerse a partir de otras variables. Es un poco más complejo…\n",
    "\n",
    "Dato extra:\n",
    "Los 3 ejes de un sistema de coordenadas cartesianas son linealmente independientes, X,Y,Z.\n",
    "No puedes obtener X a partir de Y y Z, lo mismo para las otras 2."
   ]
  },
  {
   "cell_type": "markdown",
   "metadata": {
    "created_in_deepnote_cell": true,
    "deepnote_cell_type": "markdown",
    "tags": []
   },
   "source": [
    "<a style='text-decoration:none;line-height:16px;display:flex;color:#5B5B62;padding:10px;justify-content:end;' href='https://deepnote.com?utm_source=created-in-deepnote-cell&projectId=bc504059-8ad6-4235-92fa-88fa0fec1687' target=\"_blank\">\n",
    "<img alt='Created in deepnote.com' style='display:inline;max-height:16px;margin:0px;margin-right:7.5px;' src='data:image/svg+xml;base64,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' > </img>\n",
    "Created in <span style='font-weight:600;margin-left:4px;'>Deepnote</span></a>"
   ]
  }
 ],
 "metadata": {
  "deepnote": {
   "is_reactive": false
  },
  "deepnote_execution_queue": [],
  "deepnote_notebook_id": "dc0e8e2f-767c-4d0a-bdda-fe85e29fb72b",
  "interpreter": {
   "hash": "ee8799877915b2128d18d4b1666f364b6042f264ec4835ead054518ba3b9d1ac"
  },
  "kernelspec": {
   "display_name": "Python 3.9.7 64-bit ('datascience_ml': conda)",
   "language": "python",
   "name": "python3"
  },
  "language_info": {
   "name": "python",
   "version": "3.9.7"
  },
  "orig_nbformat": 2
 },
 "nbformat": 4,
 "nbformat_minor": 2
}
