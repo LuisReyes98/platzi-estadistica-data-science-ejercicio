{
 "cells": [
  {
   "cell_type": "markdown",
   "metadata": {
    "cell_id": "00000-0b3994d1-4318-4de1-980e-d53439c6b42e",
    "deepnote_cell_type": "markdown",
    "tags": []
   },
   "source": [
    "# Medidas de dispersión\n",
    "\n",
    "Las medidas de dispesión mas utilizadas son Rango, Rango Intercuartil, Desviacion estandar.\n",
    "\n",
    "- **Rango**\n",
    "El rango es la distancia que existe entre el valor máximo y el mínimo de un conjunto de datos.\n",
    "\n",
    "- **Rango intercuartil**\n",
    "El rango intercuartil se mide en base a los cuartiles\n",
    "\n",
    "los cuartiles son valores en el conjunto de datos que lo dividen en 4 partes iguales de distancia.\n",
    "\n",
    "el primer cuartil es la mediana el cual es Q2\n",
    "\n",
    "el cuartil Q3 se encuentra justo en la mitad entre la mediana(Q2 ) y el valor máximo\n",
    "\n",
    "el cuartil Q1 se encuentra justo en la mitad entre la mediana(Q2) y el valor mínimo\n",
    "\n",
    "la distancia entre Q1 y Q3 se conoce como el **Rango intercuartil**\n",
    "\n",
    "![cuadrantes](./images/cuadrantes.png)\n",
    "\n",
    "- Desviación estándar\n",
    "\n",
    "Dada una distribucion normal\n",
    "\n",
    "\n",
    "### Rango:\n",
    "\n",
    "El Rango es el intervalo entre el valor máximo y el valor mínimo.\n",
    "\n",
    "### Cuartiles\n",
    "Los cuartiles separan los datos en 4 partes iguales\n",
    "\n",
    "Los cuartiles son valores que dividen una muestra de datos en cuatro partes iguales\n",
    "\n",
    "- 1er cuartil (Q1): 25% de los datos es menor que o igual a este valor.\n",
    "- 2do cuartil (Q2): La mediana. 50% de los datos es menor que o igual a este valor.\n",
    "- 3er cuartil (Q3): 75% de los datos es menor que o igual a este valor.\n",
    "- Rango intercuartil: La distancia entre el primer 1er cuartil y el 3er cuartil (Q3-Q1); de esta manera, abarca el 50% central de los datos.\n",
    "\n",
    "### Diagrama de caja o box plot\n",
    "\n",
    "representa gráficamente una serie de datos numéricos a través de sus cuartiles. De esta manera, el diagrama de caja muestra a simple vista la mediana y los cuartiles de los datos. También puede representar los valores atípicos de estos.\n",
    "\n",
    "### Dataset\n",
    "\n",
    "continuamos con el dataset https://www.kaggle.com/lepchenkov/usedcarscatalog"
   ]
  },
  {
   "cell_type": "markdown",
   "metadata": {
    "cell_id": "00001-ef35ca2f-5433-4d1e-9ae6-43ad0afe0a40",
    "deepnote_cell_type": "markdown",
    "tags": []
   },
   "source": [
    "## Desviación estándar\n",
    "\n",
    "Media\n",
    "\n",
    "$$\n",
    "\\mu = \\frac {1}{n} \\sum \\limits_{i=1}^n a_i\n",
    "$$\n",
    "\n",
    "Formula\n",
    "\n",
    "$$\n",
    "\\sigma={\\sqrt {\\frac {\\sum(x_{i}-{\\mu})^{2}}{N}}}\n",
    "$$\n",
    "\n",
    "Un error común es comparar la desviación estándar de dos variables que tienen escalas diferentes, en este ejemplo usaremos el edad y altura\n",
    "\n",
    "edad cumplida\n",
    "media = 24, desviación estándar = 2.5\n",
    "\n",
    "altura en centimentros\n",
    "media = 175, desviación estándar = 8\n",
    "\n",
    "Como vemos la desviación estándar de altura es mayor dado a su escala.\n",
    "\n",
    "Lo correcto sería usar el coeficiente de variabilidad que es simplemente dividir la desviación estandar entre la media.\n",
    "\n",
    "edad\n",
    "2.5 / 24 = 0.1042.\n",
    "\n",
    "altura\n",
    "8 / 175 = 0.0457\n",
    "\n",
    "Ahora ambas variables la podemos compara y concluimos que edad tiene una mayor variabilidad"
   ]
  },
  {
   "cell_type": "markdown",
   "metadata": {
    "cell_id": "00002-88af8051-2025-458f-83fd-39feb96f79e4",
    "deepnote_cell_type": "markdown",
    "tags": []
   },
   "source": [
    "Cuadrantes en una distribucion normal\n",
    "\n",
    "![cuadrantes](./images/cuadrantes.png)\n",
    "\n",
    "Desviacion estandar\n",
    "\n",
    "![desviacion estandar](./images/desviacion_estandar.webp)"
   ]
  },
  {
   "cell_type": "markdown",
   "metadata": {
    "cell_id": "00003-b4989422-1658-4322-ac4d-4c1d7792c74f",
    "deepnote_cell_type": "markdown",
    "tags": []
   },
   "source": [
    "Metodo de deteccion de Outliers utilizando en el Rango Inter Cuartil (IQR) en **una distribucion normal**\n",
    "\n",
    "min = Q1 - 1.5*IQR\n",
    "\n",
    "max = Q3 + 1.5*IQR\n",
    "\n",
    "Si la distribucion **no es normal**\n",
    "\n",
    "min = Q1 - 1.5 * f(IQR)\n",
    "\n",
    "max = Q3 + 1.5 * f(IQR)\n"
   ]
  },
  {
   "cell_type": "code",
   "execution_count": null,
   "metadata": {
    "cell_id": "00001-c9931157-1b4f-490f-a6b8-cec05f759b7f",
    "deepnote_cell_type": "code",
    "deepnote_to_be_reexecuted": false,
    "execution_millis": 4125,
    "execution_start": 1640271465055,
    "source_hash": "e0146288",
    "tags": []
   },
   "outputs": [],
   "source": [
    "import pandas as pd \n",
    "import matplotlib.pyplot as plt\n",
    "import seaborn as sns\n",
    "\n",
    "df = pd.read_csv('cars.csv')"
   ]
  },
  {
   "cell_type": "code",
   "execution_count": null,
   "metadata": {
    "cell_id": "00002-d0986d68-7534-4101-8d6e-aed0986d18ba",
    "deepnote_cell_type": "code",
    "deepnote_output_heights": [
     21.1875
    ],
    "deepnote_to_be_reexecuted": false,
    "execution_millis": 17,
    "execution_start": 1640272494915,
    "output_cleared": false,
    "source_hash": "27a26fd0",
    "tags": []
   },
   "outputs": [
    {
     "data": {
      "text/plain": [
       "6428.1520182029035"
      ]
     },
     "execution_count": 3,
     "metadata": {},
     "output_type": "execute_result"
    }
   ],
   "source": [
    "# Desviación estandar\n",
    "df['price_usd'].std()"
   ]
  },
  {
   "cell_type": "code",
   "execution_count": null,
   "metadata": {
    "cell_id": "00003-4dd34d90-6409-42b9-88ba-3ee55d1618ee",
    "deepnote_cell_type": "code",
    "deepnote_output_heights": [
     21.1875
    ],
    "deepnote_to_be_reexecuted": false,
    "execution_millis": 17,
    "execution_start": 1640272494942,
    "output_cleared": false,
    "source_hash": "b2ede7cc",
    "tags": []
   },
   "outputs": [
    {
     "data": {
      "text/plain": [
       "49999.0"
      ]
     },
     "execution_count": 4,
     "metadata": {},
     "output_type": "execute_result"
    }
   ],
   "source": [
    "# Rango = valor max - valor min\n",
    "rango = df['price_usd'].max() - df['price_usd'].min()\n",
    "rango"
   ]
  },
  {
   "cell_type": "code",
   "execution_count": null,
   "metadata": {
    "cell_id": "00007-64809c60-2fbd-49e3-829a-342c3bf8108f",
    "deepnote_cell_type": "code",
    "deepnote_output_heights": [
     21.1875
    ],
    "deepnote_to_be_reexecuted": false,
    "execution_millis": 375,
    "execution_start": 1640273152631,
    "source_hash": "2d1f1c14",
    "tags": []
   },
   "outputs": [
    {
     "name": "stdout",
     "output_type": "stream",
     "text": [
      "4800.0\n",
      "2100.0\n",
      "8990.0\n",
      "1.0\n",
      "50000.0\n"
     ]
    }
   ],
   "source": [
    "# Quartiles\n",
    "median = df['price_usd'].median()\n",
    "print(median)\n",
    "Q1 = df['price_usd'].quantile(q=0.25)\n",
    "print(Q1)\n",
    "Q3 = df['price_usd'].quantile(q=0.75)\n",
    "print(Q3)\n",
    "min_val = df['price_usd'].quantile(q=0)\n",
    "print(min_val)\n",
    "\n",
    "max_val = df['price_usd'].quantile(q=1.0)\n",
    "print(max_val)"
   ]
  },
  {
   "cell_type": "code",
   "execution_count": null,
   "metadata": {
    "cell_id": "00008-dfd122e0-8ee5-4cec-ad28-0eea7647bcc6",
    "deepnote_cell_type": "code",
    "deepnote_output_heights": [
     21.1875
    ],
    "deepnote_to_be_reexecuted": false,
    "execution_millis": 122,
    "execution_start": 1640273188458,
    "source_hash": "7e09e3cb",
    "tags": []
   },
   "outputs": [
    {
     "data": {
      "text/plain": [
       "6890.0"
      ]
     },
     "execution_count": 9,
     "metadata": {},
     "output_type": "execute_result"
    }
   ],
   "source": [
    "iqr = Q3 - Q1\n",
    "iqr"
   ]
  },
  {
   "cell_type": "markdown",
   "metadata": {
    "cell_id": "00006-f99b44f8-775c-4d5f-a7ba-bf46d43d2306",
    "deepnote_cell_type": "markdown",
    "tags": []
   },
   "source": [
    "### Límites para detección de outliers (datos simetricamente distribuidos)\n",
    "\n",
    "Datos entre $$Q_1 -1.5 \\times \\text{IQR}$$ y $$Q_3 + 1.5 \\times \\text{IQR}$$"
   ]
  },
  {
   "cell_type": "code",
   "execution_count": null,
   "metadata": {
    "cell_id": "00010-a739f55d-0150-4803-9d33-f4909b839746",
    "deepnote_cell_type": "code",
    "deepnote_to_be_reexecuted": false,
    "execution_millis": 4,
    "execution_start": 1640273255505,
    "source_hash": "6fc147d4",
    "tags": []
   },
   "outputs": [
    {
     "name": "stdout",
     "output_type": "stream",
     "text": [
      "rango para detección de outliers: -8235.0, 19325.0\n"
     ]
    }
   ],
   "source": [
    "minlimit = Q1 - 1.5*iqr\n",
    "maxlimit = Q3 + 1.5*iqr\n",
    "print('rango para detección de outliers: {}, {}'.format(minlimit, maxlimit))"
   ]
  },
  {
   "cell_type": "code",
   "execution_count": null,
   "metadata": {
    "cell_id": "00011-7a01b599-cc68-424b-b68e-d4cc7d44a074",
    "deepnote_cell_type": "code",
    "deepnote_output_heights": [
     21.1875,
     430.5625
    ],
    "deepnote_to_be_reexecuted": false,
    "execution_millis": 1190,
    "execution_start": 1640273432265,
    "source_hash": "5baf85c2",
    "tags": []
   },
   "outputs": [
    {
     "data": {
      "text/plain": [
       "<AxesSubplot:xlabel='price_usd', ylabel='Count'>"
      ]
     },
     "execution_count": 16,
     "metadata": {},
     "output_type": "execute_result"
    },
    {
     "data": {
      "image/png": "[encoded data removed]",
      "text/plain": [
       "<Figure size 842.4x595.44 with 1 Axes>"
      ]
     },
     "metadata": {
      "image/png": {
       "height": 500,
       "width": 721
      }
     },
     "output_type": "display_data"
    }
   ],
   "source": [
    "sns.set(rc={'figure.figsize':(11.7,8.27)})\n",
    "# f, (ax_hist, ax_box) = plt.subplots(2, sharex=True, gridspec_kw={\"height_ratios\": (.6, .4)})\n",
    "sns.histplot(df['price_usd'])"
   ]
  },
  {
   "cell_type": "code",
   "execution_count": null,
   "metadata": {
    "cell_id": "00012-923c8e41-8e05-4ad6-aeb2-bc5838e4525d",
    "deepnote_cell_type": "code",
    "deepnote_output_heights": [
     null,
     21.1875,
     465.265625
    ],
    "deepnote_to_be_reexecuted": false,
    "execution_millis": 406,
    "execution_start": 1640273436935,
    "source_hash": "658357b0",
    "tags": []
   },
   "outputs": [
    {
     "name": "stderr",
     "output_type": "stream",
     "text": [
      "/shared-libs/python3.7/py/lib/python3.7/site-packages/seaborn/_decorators.py:43: FutureWarning: Pass the following variable as a keyword arg: x. From version 0.12, the only valid positional argument will be `data`, and passing other arguments without an explicit keyword will result in an error or misinterpretation.\n",
      "  FutureWarning\n"
     ]
    },
    {
     "data": {
      "text/plain": [
       "<AxesSubplot:xlabel='price_usd'>"
      ]
     },
     "execution_count": 17,
     "metadata": {},
     "output_type": "execute_result"
    },
    {
     "data": {
      "image/png": "[encoded data removed]",
      "text/plain": [
       "<Figure size 842.4x595.44 with 1 Axes>"
      ]
     },
     "metadata": {
      "image/png": {
       "height": 500,
       "width": 667
      }
     },
     "output_type": "display_data"
    }
   ],
   "source": [
    "sns.boxplot(df['price_usd'])"
   ]
  },
  {
   "cell_type": "markdown",
   "metadata": {
    "cell_id": "00013-5244a850-6af0-48b5-aa33-251361f90ed0",
    "deepnote_cell_type": "markdown",
    "tags": []
   },
   "source": [
    "como podemos ver en la grafica la distribucion de datos esta sesgada"
   ]
  },
  {
   "cell_type": "code",
   "execution_count": null,
   "metadata": {
    "cell_id": "00014-77fe0697-43eb-460c-acf3-ae6de1190219",
    "deepnote_cell_type": "code",
    "deepnote_output_heights": [
     21.1875,
     426.4375
    ],
    "deepnote_to_be_reexecuted": false,
    "execution_millis": 1192,
    "execution_start": 1640273441067,
    "source_hash": "29aaf6b9",
    "tags": []
   },
   "outputs": [
    {
     "data": {
      "text/plain": [
       "<AxesSubplot:xlabel='engine_fuel', ylabel='price_usd'>"
      ]
     },
     "execution_count": 18,
     "metadata": {},
     "output_type": "execute_result"
    },
    {
     "data": {
      "image/png": "[encoded data removed]",
      "text/plain": [
       "<Figure size 842.4x595.44 with 1 Axes>"
      ]
     },
     "metadata": {
      "image/png": {
       "height": 500,
       "width": 728
      }
     },
     "output_type": "display_data"
    }
   ],
   "source": [
    "sns.boxplot(x = 'engine_fuel', y= 'price_usd', data=df)"
   ]
  },
  {
   "cell_type": "code",
   "execution_count": null,
   "metadata": {
    "cell_id": "00008-935191ea-9749-4bab-a69d-c876c4fb1829",
    "deepnote_cell_type": "code",
    "deepnote_output_heights": [
     null,
     null,
     430.5625
    ],
    "deepnote_to_be_reexecuted": false,
    "execution_millis": 2453,
    "execution_start": 1640273451320,
    "output_cleared": false,
    "source_hash": "e9aafd7e",
    "tags": []
   },
   "outputs": [
    {
     "name": "stderr",
     "output_type": "stream",
     "text": [
      "/shared-libs/python3.7/py/lib/python3.7/site-packages/seaborn/_decorators.py:43: FutureWarning: Pass the following variable as a keyword arg: x. From version 0.12, the only valid positional argument will be `data`, and passing other arguments without an explicit keyword will result in an error or misinterpretation.\n",
      "  FutureWarning\n"
     ]
    },
    {
     "data": {
      "text/plain": [
       "[Text(0.5, 0, '')]"
      ]
     },
     "execution_count": 19,
     "metadata": {},
     "output_type": "execute_result"
    },
    {
     "data": {
      "image/png": "[encoded data removed]",
      "text/plain": [
       "<Figure size 842.4x595.44 with 2 Axes>"
      ]
     },
     "metadata": {
      "image/png": {
       "height": 500,
       "width": 721
      }
     },
     "output_type": "display_data"
    }
   ],
   "source": [
    "sns.set(rc={'figure.figsize':(11.7,8.27)})\n",
    "f, (ax_hist, ax_box) = plt.subplots(2, sharex=True, gridspec_kw={\"height_ratios\": (.6, .4)})\n",
    "sns.histplot(df['price_usd'], ax=ax_hist)\n",
    "sns.boxplot(df['price_usd'], ax=ax_box)\n",
    "ax_hist.set(xlabel='')"
   ]
  },
  {
   "cell_type": "markdown",
   "metadata": {
    "cell_id": "00009-fd187fb8-5680-4a37-a44c-25fdb4e5d331",
    "deepnote_cell_type": "markdown",
    "tags": []
   },
   "source": [
    "Es posible calcular varios box-plot separando por una cierta variable categórica:"
   ]
  },
  {
   "cell_type": "code",
   "execution_count": null,
   "metadata": {
    "cell_id": "00010-5d2df49a-af1e-4450-a947-ff885ee4694f",
    "deepnote_cell_type": "code",
    "deepnote_output_heights": [
     21.1875,
     344.03125
    ],
    "deepnote_to_be_reexecuted": false,
    "execution_millis": 355,
    "execution_start": 1622484867463,
    "source_hash": "e20e1c36",
    "tags": []
   },
   "outputs": [
    {
     "data": {
      "text/plain": [
       "<AxesSubplot:xlabel='engine_fuel', ylabel='price_usd'>"
      ]
     },
     "execution_count": 8,
     "metadata": {},
     "output_type": "execute_result"
    },
    {
     "data": {
      "image/png": "[encoded data removed]",
      "text/plain": [
       "<Figure size 842.4x595.44 with 1 Axes>"
      ]
     },
     "metadata": {
      "image/png": {
       "height": 500,
       "width": 728
      }
     },
     "output_type": "display_data"
    }
   ],
   "source": [
    "sns.boxplot(x = 'engine_fuel', y = 'price_usd', data = df)"
   ]
  },
  {
   "cell_type": "code",
   "execution_count": null,
   "metadata": {
    "cell_id": "00011-a0e10599-6919-427a-9649-761ec57cf18b",
    "deepnote_cell_type": "code",
    "deepnote_to_be_reexecuted": false,
    "execution_millis": 1,
    "execution_start": 1622484867821,
    "source_hash": "b623e53d",
    "tags": []
   },
   "outputs": [],
   "source": []
  },
  {
   "cell_type": "markdown",
   "metadata": {
    "cell_id": "00019-92cfe452-4bef-4111-8c4b-8950125e01ba",
    "deepnote_cell_type": "markdown",
    "tags": []
   },
   "source": [
    "## Asimetría en distribuciones\n",
    "Como vimos en la clase, el hecho de que nuestra distribución tenga una tendencia a la derecha o a izquierda nos representa un problema, ya que no a acorde con una distribución y eso puede afectar a nuestros análisis si no tomamos en cuenta ese sesgo. No siempre hay que confiar en nuestra intuición o lo que vemos a simple vista, hay métodos como:\n",
    "\n",
    "- Primer coeficiente de asimetría de Pearson (asimetría de modo)\n",
    "- Segundo coeficiente de asimetría de Pearson (asimetría mediana)\n",
    "- Coeficiente de Groeneveld y Meeden\n",
    "- Coeficiente de Fisher\n",
    "\n",
    "Por mencionar algunos.\n",
    ".\n",
    "\n",
    "Y por último, no hay que olvidar la curtosis:\n",
    "Una curtosis grande implica una mayor concentración de valores de la variable tanto muy cerca de la media de la distribución (pico) como muy lejos de ella (colas), al tiempo que existe una relativamente menor frecuencia de valores intermedios. Esto explica una forma de la distribución de frecuencias/probabilidad con colas más gruesas, con un centro más apuntado y una menor proporción de valores intermedios entre el pico y colas.\n",
    "Una mayor curtosis no implica una mayor varianza, ni viceversa."
   ]
  },
  {
   "cell_type": "markdown",
   "metadata": {
    "created_in_deepnote_cell": true,
    "deepnote_cell_type": "markdown",
    "tags": []
   },
   "source": [
    "<a style='text-decoration:none;line-height:16px;display:flex;color:#5B5B62;padding:10px;justify-content:end;' href='https://deepnote.com?utm_source=created-in-deepnote-cell&projectId=bc504059-8ad6-4235-92fa-88fa0fec1687' target=\"_blank\">\n",
    "<img alt='Created in deepnote.com' style='display:inline;max-height:16px;margin:0px;margin-right:7.5px;' src='data:image/svg+xml;base64,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' > </img>\n",
    "Created in <span style='font-weight:600;margin-left:4px;'>Deepnote</span></a>"
   ]
  }
 ],
 "metadata": {
  "deepnote": {
   "is_reactive": false
  },
  "deepnote_execution_queue": [],
  "deepnote_notebook_id": "75eb871b-8236-4f31-8e60-1657049ce3f2",
  "interpreter": {
   "hash": "ee8799877915b2128d18d4b1666f364b6042f264ec4835ead054518ba3b9d1ac"
  },
  "kernelspec": {
   "display_name": "Python 3.9.7 64-bit ('datascience_ml': conda)",
   "language": "python",
   "name": "python3"
  },
  "language_info": {
   "name": "python",
   "version": "3.9.7"
  },
  "orig_nbformat": 2
 },
 "nbformat": 4,
 "nbformat_minor": 2
}
